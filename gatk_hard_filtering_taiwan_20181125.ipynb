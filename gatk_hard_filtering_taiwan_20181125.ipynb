{
  "nbformat": 4,
  "nbformat_minor": 0,
  "metadata": {
    "colab": {
      "name": "gatk-hard-filtering-taiwan-20181125.ipynb",
      "version": "0.3.2",
      "provenance": [],
      "include_colab_link": true
    },
    "kernelspec": {
      "display_name": "Python 2",
      "language": "python",
      "name": "python2"
    }
  },
  "cells": [
    {
      "cell_type": "markdown",
      "metadata": {
        "id": "view-in-github",
        "colab_type": "text"
      },
      "source": [
        "<a href=\"https://colab.research.google.com/github/Arhodes-Broad/GATK_Workshop_Materials/blob/master/gatk_hard_filtering_taiwan_20181125.ipynb\" target=\"_parent\"><img src=\"https://colab.research.google.com/assets/colab-badge.svg\" alt=\"Open In Colab\"/></a>"
      ]
    },
    {
      "metadata": {
        "id": "75LuI29GEmjy",
        "colab_type": "text"
      },
      "cell_type": "markdown",
      "source": [
        "# GATK Tutorial | Hard Filtering | November 2018"
      ]
    },
    {
      "metadata": {
        "id": "GydtwBviEmjz",
        "colab_type": "text"
      },
      "cell_type": "markdown",
      "source": [
        "This GATK tutorial corresponds to a section of the GATK Workshop _2b. Germline Hard Filtering Tutorial_ worksheet available at [https://drive.google.com/open?id=1HeA-zuPW-uEZCJP5zd3AAYfOdwgIWUld](https://drive.google.com/open?id=1HeA-zuPW-uEZCJP5zd3AAYfOdwgIWUld). The goal is to become familiar with germline variant annotations. The notebook illustrates the following steps. \n",
        "\n",
        "- Use GATK to stratify a variant callset against a truthset\n",
        "- Use R's ggplot2 package to plot the distribution of various annotation values\n",
        "- Hard-filter based on annotation thresholds and calculate concordance metrics  \n",
        "\n",
        "### First, make sure the notebook is using a Python 3 kernel in the top right corner.\n",
        "The notebook switches between using Python 3 and R kernels. A kernel is a _computational engine_ that executes the code in the notebook. We have to switch kernels so that we can execute GATK commands using _Python Magic_ (`!`) and make plots using R. \n",
        "\n",
        "### How to run this notebook:\n",
        "- **Click to select a gray cell and then pressing SHIFT+ENTER to run the cell.**\n",
        "- **When instructions say to change kernels, go to the menubar and select _Kernel > Change Kernel > Python 3_.** When switching from R back to Python, any R variables will be lost.\n",
        "\n",
        "- **Write results to `/home/jupyter-user/`. To access the directory, click on the upper-left jupyter icon.**\n",
        "\n",
        "### Enable reading Google bucket data "
      ]
    },
    {
      "metadata": {
        "id": "FmVtMv75Emj0",
        "colab_type": "code",
        "colab": {}
      },
      "cell_type": "code",
      "source": [
        "# Check if data is accessible. The command should list several gs:// URLs.\n",
        "! gsutil ls gs://gatk-tutorials/workshop_1702/variant_discovery/data/resources/\n",
        "! gsutil ls gs://gatk-tutorials/workshop_1702/variant_discovery/data/intervals/motherHighconf.bed\n",
        "! gsutil ls gs://gatk-tutorials/workshop_1702/variant_discovery/data/inputVcfs/"
      ],
      "execution_count": 0,
      "outputs": []
    },
    {
      "metadata": {
        "scrolled": true,
        "id": "lvH2enBMEmj3",
        "colab_type": "code",
        "colab": {}
      },
      "cell_type": "code",
      "source": [
        "# If you do not see gs:// URLs listed above, run this cell to install Google Cloud Storage. \n",
        "# Afterwards, restart the kernel with Kernel > Restart.\n",
        "! pip install google-cloud-storage"
      ],
      "execution_count": 0,
      "outputs": []
    },
    {
      "metadata": {
        "id": "TUWO8qLOEmj6",
        "colab_type": "text"
      },
      "cell_type": "markdown",
      "source": [
        "---\n",
        "## 1. Subset variants to SNPs of a single sample with SelectVariants"
      ]
    },
    {
      "metadata": {
        "id": "coRKZyfvEmj7",
        "colab_type": "text"
      },
      "cell_type": "markdown",
      "source": [
        "Subset the trio callset to just the SNPs of the mother (sample NA12878). Make sure to remove sites for which the sample genotype is homozygous-reference and remove unused alleles, including spanning deletions. \n",
        "\n",
        "> The tool recalculates depth of coverage (DP) per site as well as the allele count in genotypes for each ALT allele (AC), allele frequency for each ALT allele (AF), and  total number of alleles in called genotypes (AN), to reflect only the subset sample(s)."
      ]
    },
    {
      "metadata": {
        "scrolled": true,
        "id": "tbjKkJcUEmj8",
        "colab_type": "code",
        "colab": {}
      },
      "cell_type": "code",
      "source": [
        "! gatk SelectVariants \\\n",
        "-V gs://gatk-tutorials/workshop_1702/variant_discovery/data/inputVcfs/trio.vcf.gz \\\n",
        "-sn NA12878 \\\n",
        "-select-type SNP \\\n",
        "--exclude-non-variants \\\n",
        "--remove-unused-alternates \\\n",
        "-O /home/jupyter-user/motherSNP.vcf.gz"
      ],
      "execution_count": 0,
      "outputs": []
    },
    {
      "metadata": {
        "scrolled": true,
        "id": "sZ0Nr8qpEmj-",
        "colab_type": "code",
        "colab": {}
      },
      "cell_type": "code",
      "source": [
        "# Peruse the resulting file \n",
        "! zcat /home/jupyter-user/motherSNP.vcf.gz | grep -v '##' | head"
      ],
      "execution_count": 0,
      "outputs": []
    },
    {
      "metadata": {
        "id": "hQEKLE2lEmkA",
        "colab_type": "text"
      },
      "cell_type": "markdown",
      "source": [
        "---\n",
        "## 2. Annotate intersecting true positives with VariantAnnotator"
      ]
    },
    {
      "metadata": {
        "id": "JM74YD6ZEmkB",
        "colab_type": "text"
      },
      "cell_type": "markdown",
      "source": [
        "We use VariantAnnotator to annotate which variants in our callset are also present in the truthset (GIAB), which are considered true positives. Variants not present in the truthset are considered false positives. Here we produce a callset where variants that are present in the truthset are annotated with the giab.callsets annotation plus a value indicating how many of the callsets used to develop the truthset agreed with that call."
      ]
    },
    {
      "metadata": {
        "scrolled": true,
        "id": "MzTpswIaEmkC",
        "colab_type": "code",
        "colab": {}
      },
      "cell_type": "code",
      "source": [
        "! gatk VariantAnnotator \\\n",
        "-V /home/jupyter-user/motherSNP.vcf.gz \\\n",
        "--resource giab:gs://gatk-tutorials/workshop_1702/variant_discovery/data/resources/motherGIABsnps.vcf.gz \\\n",
        "-E giab.callsets \\\n",
        "-O /home/jupyter-user/motherSNP.giab.vcf.gz"
      ],
      "execution_count": 0,
      "outputs": []
    },
    {
      "metadata": {
        "scrolled": true,
        "id": "3KC9IrMlEmkF",
        "colab_type": "code",
        "colab": {}
      },
      "cell_type": "code",
      "source": [
        "# Peruse the resulting file \n",
        "! zcat /home/jupyter-user/motherSNP.giab.vcf.gz | grep 'giab.callsets' | head"
      ],
      "execution_count": 0,
      "outputs": []
    },
    {
      "metadata": {
        "id": "oxcGxLL5EmkH",
        "colab_type": "text"
      },
      "cell_type": "markdown",
      "source": [
        "---\n",
        "## 3. Tabulate annotations of interest with VariantsToTable"
      ]
    },
    {
      "metadata": {
        "id": "9wyH3569EmkI",
        "colab_type": "text"
      },
      "cell_type": "markdown",
      "source": [
        "Convert the information from the callset into a table using VariantsToTable, so that we can parse it easily in R. The tool parameters differentiate cohort-level fields (`-F`) and sample-level genotype fields (`-GF`). This step produces a table where each line represents a variant record from the VCF, and each column represents an annotation we have specified. Wherever the requested annotations are not present, e.g. RankSum annotations at homozygous sites, the value will be replaced by NA. "
      ]
    },
    {
      "metadata": {
        "scrolled": true,
        "id": "mLcusgZUEmkJ",
        "colab_type": "code",
        "colab": {}
      },
      "cell_type": "code",
      "source": [
        "! gatk VariantsToTable \\\n",
        "-V /home/jupyter-user/motherSNP.giab.vcf.gz \\\n",
        "-F CHROM -F POS -F QUAL \\\n",
        "-F BaseQRankSum -F MQRankSum -F ReadPosRankSum \\\n",
        "-F DP -F FS -F MQ -F QD -F SOR \\\n",
        "-F giab.callsets \\\n",
        "-GF GQ \\\n",
        "-O /home/jupyter-user/motherSNP.giab.txt"
      ],
      "execution_count": 0,
      "outputs": []
    },
    {
      "metadata": {
        "id": "Wfb1B9VsEmkM",
        "colab_type": "code",
        "colab": {}
      },
      "cell_type": "code",
      "source": [
        "# Peruse the resulting file\n",
        "! cat /home/jupyter-user/motherSNP.giab.txt | head -n300"
      ],
      "execution_count": 0,
      "outputs": []
    },
    {
      "metadata": {
        "id": "bvDeQZxbEmkO",
        "colab_type": "code",
        "colab": {}
      },
      "cell_type": "code",
      "source": [
        "# Focus in on a few columns\n",
        "! cat /home/jupyter-user/motherSNP.giab.txt | cut -f1,2,7,12 | head -n300"
      ],
      "execution_count": 0,
      "outputs": []
    },
    {
      "metadata": {
        "id": "X8i-VXj7EmkP",
        "colab_type": "text"
      },
      "cell_type": "markdown",
      "source": [
        "---\n",
        "## 4. Make density and scatter plots in R and determine filtering thresholds"
      ]
    },
    {
      "metadata": {
        "id": "EpxQKtW-EmkR",
        "colab_type": "text"
      },
      "cell_type": "markdown",
      "source": [
        "<span style=\"color:red\">Change the kernel to R. Go to the menubar and select _Kernel > Change Kernel > R_.</span>\n",
        "\n",
        "Plotting the density of values for an annotation shows us to see the overall range and distribution of values observed in a callset. In combination with some basic knowledge of what the annotation represents and how it is calculated, this allows us to make a first estimation of value thresholds that segregate FPs from TPs. Plotting the scatter of values for two annotations, one against the other, additionally shows us what tradeoffs we make when setting a threshold on annotation values individually. "
      ]
    },
    {
      "metadata": {
        "id": "wbr_6UPoEmkR",
        "colab_type": "text"
      },
      "cell_type": "markdown",
      "source": [
        "### A. Load R libraries, plotting functions and data"
      ]
    },
    {
      "metadata": {
        "id": "tceJJhHYEmkR",
        "colab_type": "text"
      },
      "cell_type": "markdown",
      "source": [
        "Don't worry if you don't know how to read the R script below. Also, you can ignore the red boxes that appear, e.g. stating `as ‘lib’ is unspecified`. "
      ]
    },
    {
      "metadata": {
        "id": "Dwp8EIbYEmkT",
        "colab_type": "code",
        "colab": {}
      },
      "cell_type": "code",
      "source": [
        "# plotting.R script loads ggplot and gridExtra libraries and defines functions to plot variant annotations \n",
        "\n",
        "library(ggplot2)\n",
        "install.packages(\"gridExtra\")\n",
        "library(gridExtra)\n",
        "\n",
        "get_legend<-function(myggplot){\n",
        "  tmp <- ggplot_gtable(ggplot_build(myggplot))\n",
        "  leg <- which(sapply(tmp$grobs, function(x) x$name) == \"guide-box\")\n",
        "  legend <- tmp$grobs[[leg]]\n",
        "  return(legend)\n",
        "}\n",
        "\n",
        "\n",
        "# Function for making density plots of a single annotation\n",
        "makeDensityPlot <- function(dataframe, xvar, split, xmin=min(dataframe[xvar], na.rm=TRUE), xmax=max(dataframe[xvar], na.rm=TRUE), alpha=0.5) {\n",
        "  \n",
        "  if(missing(split)) {\n",
        "    return(ggplot(data=dataframe, aes_string(x=xvar)) + xlim(xmin,xmax) + geom_density() )\n",
        "  }\n",
        "  else {\n",
        "    return(ggplot(data=dataframe, aes_string(x=xvar, fill=split)) + xlim(xmin,xmax) + geom_density(alpha=alpha) )\n",
        "  }\n",
        "}\n",
        "\n",
        "# Function for making scatter plots of two annotations\n",
        "makeScatterPlot <- function(dataframe, xvar, yvar, split, xmin=min(dataframe[xvar], na.rm=TRUE), xmax=max(dataframe[xvar], na.rm=TRUE), ymin=min(dataframe[yvar], na.rm=TRUE), ymax=max(dataframe[yvar], na.rm=TRUE), ptSize=1, alpha=0.6) {\n",
        "  if(missing(split)) {\n",
        "    return(ggplot(data=dataframe) + aes_string(x=xvar, y=yvar) + xlim(xmin,xmax) + ylim(ymin,ymax) + geom_point(size=ptSize, alpha=alpha) )\n",
        "  }\n",
        "  else {\n",
        "    return(ggplot(data=dataframe) + aes_string(x=xvar, y=yvar) + aes_string(color=split) + xlim(xmin,xmax) + ylim(ymin,ymax) + geom_point(size=ptSize, alpha=alpha) )\n",
        "  }\n",
        "}\n",
        "\n",
        "# Function for making scatter plots of two annotations with marginal density plots of each\n",
        "makeScatterPlotWithMarginalDensity <- function(dataframe, xvar, yvar, split, xmin=min(dataframe[xvar], na.rm=TRUE), xmax=max(dataframe[xvar], na.rm=TRUE), ymin=min(dataframe[yvar], na.rm=TRUE), ymax=max(dataframe[yvar], na.rm=TRUE), ptSize=1, ptAlpha=0.6, fillAlpha=0.5) {\n",
        "  empty <- ggplot()+geom_point(aes(1,1), colour=\"white\") +\n",
        "    theme(\n",
        "      plot.background = element_blank(), \n",
        "      panel.grid.major = element_blank(), \n",
        "      panel.grid.minor = element_blank(), \n",
        "      panel.border = element_blank(), \n",
        "      panel.background = element_blank(),\n",
        "      axis.title.x = element_blank(),\n",
        "      axis.title.y = element_blank(),\n",
        "      axis.text.x = element_blank(),\n",
        "      axis.text.y = element_blank(),\n",
        "      axis.ticks = element_blank()\n",
        "    )\n",
        "  \n",
        "  if(missing(split)){\n",
        "    scatter <- ggplot(data=dataframe) + aes_string(x=xvar, y=yvar) + geom_point(size=ptSize, alpha=ptAlpha) + xlim(xmin,xmax) + ylim(ymin,ymax) \n",
        "    plot_top <- ggplot(data=dataframe, aes_string(x=xvar)) + geom_density(alpha=fillAlpha) + theme(legend.position=\"none\") + xlim(xmin,xmax) \n",
        "    plot_right <- ggplot(data=dataframe, aes_string(x=yvar)) + geom_density(alpha=fillAlpha) + coord_flip() + theme(legend.position=\"none\") + xlim(ymin,ymax) \n",
        "  } \n",
        "  else{\n",
        "    scatter <- ggplot(data=dataframe) + aes_string(x=xvar, y=yvar) + geom_point(size=ptSize, alpha=ptAlpha, aes_string(color=split)) + xlim(xmin,xmax) + ylim(ymin,ymax) \n",
        "    plot_top <- ggplot(data=dataframe, aes_string(x=xvar, fill=split)) + geom_density(alpha=fillAlpha) + theme(legend.position=\"none\") + xlim(xmin,xmax) \n",
        "    plot_right <- ggplot(data=dataframe, aes_string(x=yvar, fill=split)) + geom_density(alpha=fillAlpha) + coord_flip() + theme(legend.position=\"none\") + xlim(ymin,ymax) \n",
        "  }\n",
        "  legend <- get_legend(scatter)\n",
        "  scatter <- scatter + theme(legend.position=\"none\")\n",
        "  temp <- grid.arrange(plot_top, legend, scatter, plot_right, ncol=2, nrow=2, widths=c(4,1), heights=c(1,4))\n",
        "  return(temp)\n",
        "}"
      ],
      "execution_count": 0,
      "outputs": []
    },
    {
      "metadata": {
        "id": "_umOmfG5EmkV",
        "colab_type": "code",
        "colab": {}
      },
      "cell_type": "code",
      "source": [
        "# Call the readr library and use its read_delim function to load motherSNP.giab.txt into the motherSNP.giab object.\n",
        "library(readr)\n",
        "motherSNP.giab <- read_delim(\"/home/jupyter-user/motherSNP.giab.txt\",\"\\t\", \n",
        "              escape_double = FALSE, col_types = cols(giab.callsets = col_character()), trim_ws = TRUE)"
      ],
      "execution_count": 0,
      "outputs": []
    },
    {
      "metadata": {
        "id": "ehHorykfEmkX",
        "colab_type": "code",
        "colab": {}
      },
      "cell_type": "code",
      "source": [
        "# Rename the 'giab.callsets' column to 'set'.\n",
        "names(motherSNP.giab)[names(motherSNP.giab) == 'giab.callsets'] <- 'set'"
      ],
      "execution_count": 0,
      "outputs": []
    },
    {
      "metadata": {
        "id": "g5woQNRLEmkZ",
        "colab_type": "text"
      },
      "cell_type": "markdown",
      "source": [
        "---\n",
        "\n",
        "For reference, here are some basic filtering thresholds to improve upon.\n",
        "\n",
        "- -filter \"QD < 2.0\"\n",
        "- -filter \"QUAL < 30.0\"\n",
        "- -filter \"SOR > 3.0\"\n",
        "- -filter \"FS > 60.0\"\n",
        "- -filter \"MQ < 40.0\"\n",
        "- -filter \"MQRankSum < -12.5 \n",
        "- -filter \"ReadPosRankSum < -8.0\"\n",
        "\n",
        "---"
      ]
    },
    {
      "metadata": {
        "id": "hxyv4jxPEmkZ",
        "colab_type": "text"
      },
      "cell_type": "markdown",
      "source": [
        "### B. Make a density plot for QUAL with the `makeDensityPlot` function\n",
        "\n",
        "Iteratively improve the plot by modifying `qual`. Here are some suggestions to start.\n",
        "- B = makeDensityPlot(motherSNP.giab, \"QUAL\")\n",
        "- B = makeDensityPlot(motherSNP.giab, \"QUAL\", xmax=10000)\n",
        "- B = makeDensityPlot(motherSNP.giab, \"QUAL\", xmax=10000, split=\"set\")\n",
        "\n",
        "> _How does the density distribution relate to what the annotation represents? Can we find some clues of what might distinguish good vs. bad variants?_\n",
        "> _When we plot the split version, can we see a clear difference between the set distributions? What does that tell us?_"
      ]
    },
    {
      "metadata": {
        "id": "3Jq19DIJEmka",
        "colab_type": "code",
        "colab": {}
      },
      "cell_type": "code",
      "source": [
        "# B = makeDensityPlot(motherSNP.giab, \"QUAL\")\n",
        "B = makeDensityPlot(motherSNP.giab, \n",
        "                    \"QUAL\")"
      ],
      "execution_count": 0,
      "outputs": []
    },
    {
      "metadata": {
        "scrolled": false,
        "id": "pYcFuqpsEmkd",
        "colab_type": "code",
        "colab": {}
      },
      "cell_type": "code",
      "source": [
        "# Plot 'B'\n",
        "B"
      ],
      "execution_count": 0,
      "outputs": []
    },
    {
      "metadata": {
        "id": "1YXGWRtbEmkh",
        "colab_type": "text"
      },
      "cell_type": "markdown",
      "source": [
        "### C. Make a QD (QualByDepth) density plot"
      ]
    },
    {
      "metadata": {
        "id": "PelbRR6pEmkh",
        "colab_type": "text"
      },
      "cell_type": "markdown",
      "source": [
        "QD puts the variant confidence QUAL score into perspective by normalizing for the amount of coverage available. Because each read contributes a little to the QUAL score, variants in regions with deep coverage can have artificially inflated QUAL scores, giving the impression that the call is supported by more evidence than it really is. To compensate for this, we normalize the variant confidence by depth, which gives us a more objective picture of how well supported the call is.\n",
        "\n",
        "> _What do the peaks represent?_"
      ]
    },
    {
      "metadata": {
        "id": "9EC5A6b8Emki",
        "colab_type": "code",
        "colab": {}
      },
      "cell_type": "code",
      "source": [
        "# C = makeDensityPlot(motherSNP.giab, \"QD\")\n",
        "# Change up the parameters, e.g. add 'split=\"set\"', examine RankSums, FS and SOR\n",
        "C = makeDensityPlot(motherSNP.giab, \n",
        "                    \"QD\")"
      ],
      "execution_count": 0,
      "outputs": []
    },
    {
      "metadata": {
        "id": "LqshXxK1Emkk",
        "colab_type": "code",
        "colab": {}
      },
      "cell_type": "code",
      "source": [
        "C"
      ],
      "execution_count": 0,
      "outputs": []
    },
    {
      "metadata": {
        "id": "6FcZfduwEmkk",
        "colab_type": "text"
      },
      "cell_type": "markdown",
      "source": [
        "### D. Make a scatterplot of QD vs. DP using the `makeScatterPlot` function"
      ]
    },
    {
      "metadata": {
        "id": "H-oZXpBwEmkm",
        "colab_type": "text"
      },
      "cell_type": "markdown",
      "source": [
        "The DP (depth) here refers to the unfiltered count of reads at the site level (INFO). An identically named annotation exists at the sample level (FORMAT) that refers to the count of reads that passed the caller's internal quality control metrics for the sample. \n",
        "\n",
        "> What is the relationship between DP and QUAL? How does high-depth correlate with true positives?"
      ]
    },
    {
      "metadata": {
        "id": "M9uazXx2Emkm",
        "colab_type": "code",
        "colab": {}
      },
      "cell_type": "code",
      "source": [
        "# D = makeScatterPlot(motherSNP.giab, \"QD\", \"DP\", split=\"set\")\n",
        "# Play with the axis limits to zoom in on subsets of the data, e.g. by adding ymax=1000.\n",
        "D = makeScatterPlot(motherSNP.giab, \n",
        "                    \"QD\", \"DP\", \n",
        "                    split=\"set\")"
      ],
      "execution_count": 0,
      "outputs": []
    },
    {
      "metadata": {
        "scrolled": false,
        "id": "0FONCzIlEmkn",
        "colab_type": "code",
        "colab": {}
      },
      "cell_type": "code",
      "source": [
        "D"
      ],
      "execution_count": 0,
      "outputs": []
    },
    {
      "metadata": {
        "id": "Fy-9SCFKEmkq",
        "colab_type": "text"
      },
      "cell_type": "markdown",
      "source": [
        "### E. Make a scatterplot winged by marginal density plots\n",
        "\n",
        "The `makeScatterPlotWithMarginalDensity` function defines and plots. The `ptAlpha` parameter changes the transparency of the points. \n",
        "\n",
        "> _When plotting two annotations, does the combination of the two tell us anything more than either did separately?_\n",
        "\n",
        "- Try adjusting the parameters.\n",
        "- Substitute in other annotations. For example, the following recreates the plot on the front page of the tutorial worksheet.\n",
        "\n",
        "```\n",
        "F = makeScatterPlotWithMarginalDensity(motherSNP.giab, \"QUAL\", \"DP\", split=\"set\", xmax=10000, ymax=100, ptSize=0.5, ptAlpha=0.05)\n",
        "```\n",
        "\n",
        "\n"
      ]
    },
    {
      "metadata": {
        "id": "qPSvNzp-Emkq",
        "colab_type": "code",
        "colab": {}
      },
      "cell_type": "code",
      "source": [
        "# E = makeScatterPlotWithMarginalDensity(motherSNP.giab, \"QD\", \"DP\", split=\"set\", ymax=250, ptSize=0.5, ptAlpha=0.2)\n",
        "E = makeScatterPlotWithMarginalDensity(motherSNP.giab, \n",
        "                                       \"QD\", \"DP\", \n",
        "                                       split=\"set\", \n",
        "                                       ymax=250, \n",
        "                                       ptSize=0.5, ptAlpha=0.2)"
      ],
      "execution_count": 0,
      "outputs": []
    },
    {
      "metadata": {
        "id": "wKNjgjZEEmks",
        "colab_type": "code",
        "colab": {}
      },
      "cell_type": "code",
      "source": [
        "# Blank cell for free use. Add additional cells with Menu > Insert.\n",
        "# Change the cell type with Cell > Cell Type.\n",
        "# Delete a cell with Edit > Delete Cells."
      ],
      "execution_count": 0,
      "outputs": []
    },
    {
      "metadata": {
        "id": "WTaMWQwGEmks",
        "colab_type": "text"
      },
      "cell_type": "markdown",
      "source": [
        "---\n",
        "## 5. Apply filters with VariantFiltration and evaluate results"
      ]
    },
    {
      "metadata": {
        "id": "-WII-n1CEmku",
        "colab_type": "text"
      },
      "cell_type": "markdown",
      "source": [
        "Note you will lose all functions and variables stored in R when you switch the kernel. If you wish to avoid this, perform these analyses locally. Instructions for this section are recapitulated in the last section of the _GATK Workshop 2b. Germline Hard Filtering Tutorial_ worksheet\n",
        "\n",
        "<span style=\"color:blue\">Change the kernel to Python 3. Go to the menubar and select _Kernel > Change Kernel > Python 3_.</span>\n",
        "\n",
        "### A. Filter on QUAL and tabulate baseline concordance\n",
        "\n",
        "Based on the plots we generated, we're going to apply some filters to weed out false positives. To illustrate how VariantFiltration works, and to establish baseline performance, we first filter on QUAL < 30. By default, GATK GenotypeGVCFs filters out variants with QUAL < 10. This step produces a VCF with all the original variants; those that failed the filter are annotated with the filter name in the FILTER column.\n"
      ]
    },
    {
      "metadata": {
        "scrolled": true,
        "id": "Z1LZly5dEmku",
        "colab_type": "code",
        "colab": {}
      },
      "cell_type": "code",
      "source": [
        "# Filter callset on one annotation, QUAL < 30\n",
        "! gatk VariantFiltration \\\n",
        "-R gs://gatk-tutorials/workshop_1702/variant_discovery/data/ref/ref.fasta \\\n",
        "-V /home/jupyter-user/motherSNP.vcf.gz \\\n",
        "--filter-expression \"QUAL < 30\" \\\n",
        "--filter-name \"qual30\" \\\n",
        "-O /home/jupyter-user/motherSNPqual30.vcf.gz"
      ],
      "execution_count": 0,
      "outputs": []
    },
    {
      "metadata": {
        "scrolled": true,
        "id": "hcYjQdJUEmkv",
        "colab_type": "code",
        "colab": {}
      },
      "cell_type": "code",
      "source": [
        "# Peruse the results; try adding 'grep \"qual30\"'\n",
        "! zcat /home/jupyter-user/motherSNPqual30.vcf.gz | grep -v '##' | head -n10"
      ],
      "execution_count": 0,
      "outputs": []
    },
    {
      "metadata": {
        "scrolled": true,
        "id": "nRavwcYMEmkx",
        "colab_type": "code",
        "colab": {}
      },
      "cell_type": "code",
      "source": [
        "# Calculate concordance metrics using GATK4 BETA tool Concordance\n",
        "! gatk Concordance \\\n",
        "-eval /home/jupyter-user/motherSNPqual30.vcf.gz \\\n",
        "-truth gs://gatk-tutorials/workshop_1702/variant_discovery/data/resources/motherGIABsnps.vcf.gz \\\n",
        "-L gs://gatk-tutorials/workshop_1702/variant_discovery/data/intervals/motherHighconf.bed \\\n",
        "-S /home/jupyter-user/motherSNPqual30.txt\n",
        "        \n",
        "# View the results\n",
        "! echo \"\"\n",
        "! cat /home/jupyter-user/motherSNPqual30.txt"
      ],
      "execution_count": 0,
      "outputs": []
    },
    {
      "metadata": {
        "id": "WrbUWjv6Emkx",
        "colab_type": "text"
      },
      "cell_type": "markdown",
      "source": [
        "### B. Filter on multiple annotations simultaneously using VariantFiltration"
      ]
    },
    {
      "metadata": {
        "id": "JfRSLfWbEmky",
        "colab_type": "text"
      },
      "cell_type": "markdown",
      "source": [
        "To filter on multiple expressions, provide each in separate expression. For INFO level annotations, the parameter is  `-filter`, which should be immediately followed by the corresponding `–-filter-name` label. Here we show basic hard-filtering thresholds.\n",
        "\n",
        "- If an annotation is missing, VariantFiltration skips any judgement on that annotation. To conservatively fail such missing annotation sites, set the `--missing-values-evaluate-as-failing` flag. \n",
        "- To filter based on FORMAT level annotations, use `--genotype-filter-expression` and `--genotype-filter-name`. "
      ]
    },
    {
      "metadata": {
        "scrolled": true,
        "id": "WcELroBCEmkz",
        "colab_type": "code",
        "colab": {}
      },
      "cell_type": "code",
      "source": [
        "# Filter callset on multiple annotations.\n",
        "# Iterate on thresholds to improve precision while maintaining high sensitivity.\n",
        "! gatk VariantFiltration \\\n",
        "-V /home/jupyter-user/motherSNP.vcf.gz \\\n",
        "-filter \"QD < 2.0\" --filter-name \"QD2\" \\\n",
        "-filter \"QUAL < 30.0\" --filter-name \"QUAL30\" \\\n",
        "-filter \"SOR > 3.0\" --filter-name \"SOR3\" \\\n",
        "-filter \"FS > 60.0\" --filter-name \"FS60\" \\\n",
        "-filter \"MQ < 40.0\" --filter-name \"MQ40\" \\\n",
        "-filter \"MQRankSum < -12.5\" --filter-name \"MQRankSum-12.5\" \\\n",
        "-filter \"ReadPosRankSum < -8.0\" --filter-name \"ReadPosRankSum-8\" \\\n",
        "-O /home/jupyter-user/motherSNPfilters.vcf.gz"
      ],
      "execution_count": 0,
      "outputs": []
    },
    {
      "metadata": {
        "scrolled": true,
        "id": "0gm8Vb7CEmk1",
        "colab_type": "code",
        "colab": {}
      },
      "cell_type": "code",
      "source": [
        "# Sanity-check that filtering is as expected by examining filtered records and PASS records.\n",
        "! zcat /home/jupyter-user/motherSNPfilters.vcf.gz | grep -v '##' | grep -v 'PASS' | head -n20 | cut -f6-10\n",
        "! zcat /home/jupyter-user/motherSNPfilters.vcf.gz | grep -v '#' | grep 'PASS' | head | cut -f6-10"
      ],
      "execution_count": 0,
      "outputs": []
    },
    {
      "metadata": {
        "scrolled": true,
        "id": "ZhfTnwHuEmk2",
        "colab_type": "code",
        "colab": {}
      },
      "cell_type": "code",
      "source": [
        "# Calculate concordance metrics using GATK4 BETA tool Concordance\n",
        "! gatk Concordance \\\n",
        "-eval /home/jupyter-user/motherSNPfilters.vcf.gz \\\n",
        "-truth gs://gatk-tutorials/workshop_1702/variant_discovery/data/resources/motherGIABsnps.vcf.gz \\\n",
        "-L gs://gatk-tutorials/workshop_1702/variant_discovery/data/intervals/motherHighconf.bed \\\n",
        "-S /home/jupyter-user/motherSNPfilters.txt\n",
        "        \n",
        "# View the results\n",
        "! echo \"\"\n",
        "! cat /home/jupyter-user/motherSNPfilters.txt"
      ],
      "execution_count": 0,
      "outputs": []
    },
    {
      "metadata": {
        "id": "9EM9brjJEmk4",
        "colab_type": "text"
      },
      "cell_type": "markdown",
      "source": [
        "---\n",
        "\n",
        "We performed hard-filtering to learn about germline variant annotations. Remember that GATK recommends _Variant Quality Score Recalibration_ (VQSR) for germline variant callset filtering. For more complex variant filtering and annotation, see the Broad [Hail.is](https://hail.is/index.html) framework. "
      ]
    },
    {
      "metadata": {
        "id": "t5B1gYwhEmk4",
        "colab_type": "code",
        "colab": {}
      },
      "cell_type": "code",
      "source": [
        ""
      ],
      "execution_count": 0,
      "outputs": []
    }
  ]
}